{
 "cells": [
  {
   "cell_type": "code",
   "execution_count": 1,
   "metadata": {},
   "outputs": [
    {
     "name": "stdout",
     "output_type": "stream",
     "text": [
      "\n",
      "    What would you like to do:\n",
      "    1. Look up the head quarters of your favorite beer?\n",
      "    2. Test to see if the computer can recognize if there is a beer in the picture?\n",
      "    3. Have the computer make a caption of a picture of your choosing?\n",
      "    4. Quit   \n",
      "    \n",
      ">> heinekin\n"
     ]
    }
   ],
   "source": [
    "import requests\n",
    "%matplotlib inline\n",
    "from PIL import Image\n",
    "from io import BytesIO\n",
    "import matplotlib.pyplot as matplot\n",
    "def menu():\n",
    "    print(\"\"\"\n",
    "    What would you like to do:\n",
    "    1. Look up the head quarters of your favorite beer?\n",
    "    2. Test to see if the computer can recognize if there is a beer in the picture?\n",
    "    3. Have the computer make a caption of a picture of your choosing?\n",
    "    4. Quit   \n",
    "    \"\"\")\n",
    "def Vision_API(url):\n",
    "    ## Insert Subscription key\n",
    "    subscription_key = \"b29a8dec9ab4453fb0b8cb54331c6d44\"\n",
    "    assert subscription_key\n",
    "    #Gets all the valid information to run the API\n",
    "    microsoft_api = 'https://eastus.api.cognitive.microsoft.com/vision/v1.0/analyze?visualFeatures=Description&language=en'\n",
    "    #jpeg = input('put in your url --> MUST BE A JPEG: \\n')\n",
    "    headers  = {'Ocp-Apim-Subscription-Key': subscription_key }\n",
    "    paramaters   = {'visualFeatures': 'Categories,Description,Color'}\n",
    "    data     = {'url': jpeg}\n",
    "   \n",
    "    #Calls the API and gets the raw data\n",
    "    response = requests.post(microsoft_api, headers=headers, params=paramaters, json=data)\n",
    "    response.raise_for_status()\n",
    "    Vision_Data = response.json()\n",
    "    return Vision_Data\n",
    "##def is_beer(url): \n",
    "    \n",
    "   \n",
    "def get_Caption(Vision_API):\n",
    "    #gets the caption that the api made\n",
    "    Vision_API(Vision_Data)\n",
    "    caption = Vision_Data[\"description\"][\"captions\"][0][\"text\"].capitalize()\n",
    "    image = Image.open(BytesIO(requests.get(jpeg).content))\n",
    "    matplot.imshow(image)\n",
    "    ##prints the picture\n",
    "    matplot.axis(\"off\")\n",
    "    caption_printed = matplot.title(caption, size=\"x-large\", y=-0.1)\n",
    "   \n",
    "menu()\n",
    "ans = input(\">> \")\n",
    "if ans == \"3\":\n",
    "    jpeg = input('put in your url --> MUST BE A JPEG: \\n')\n",
    "    Vision_API(jpeg)\n",
    "    get_Caption(Vision_API)"
   ]
  },
  {
   "cell_type": "code",
   "execution_count": null,
   "metadata": {},
   "outputs": [],
   "source": []
  }
 ],
 "metadata": {
  "kernelspec": {
   "display_name": "Python 3",
   "language": "python",
   "name": "python3"
  },
  "language_info": {
   "codemirror_mode": {
    "name": "ipython",
    "version": 3
   },
   "file_extension": ".py",
   "mimetype": "text/x-python",
   "name": "python",
   "nbconvert_exporter": "python",
   "pygments_lexer": "ipython3",
   "version": "3.6.3"
  }
 },
 "nbformat": 4,
 "nbformat_minor": 2
}
