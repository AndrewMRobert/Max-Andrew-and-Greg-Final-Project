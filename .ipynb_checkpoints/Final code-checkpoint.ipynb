{
 "cells": [
  {
   "cell_type": "code",
   "execution_count": 1,
   "metadata": {},
   "outputs": [
    {
     "name": "stdout",
     "output_type": "stream",
     "text": [
      "\n",
      "    What would you like to do:\n",
      "    1. Look up the head quarters of your favorite beer?\n",
      "    2. Test to see if the computer can recognize if there is a beer in the picture?\n",
      "    3. Have the computer make a caption of a picture of your choosing?  \n",
      "    \n",
      ">> 2\n",
      "put in your url --> MUST BE A JPEG: \n",
      "https://dydza6t6xitx6.cloudfront.net/ci_4868.jpg\n",
      "This is not a beer but you should get one\n",
      "I am 91.64% sure of this answer\n"
     ]
    }
   ],
   "source": [
    "import requests\n",
    "%matplotlib inline\n",
    "from PIL import Image\n",
    "from bs4 import BeautifulSoup\n",
    "from io import BytesIO\n",
    "import matplotlib.pyplot as matplot\n",
    "\n",
    "def menu():\n",
    "    print(\"\"\"\n",
    "    What would you like to do:\n",
    "    1. Look up the head quarters of your favorite beer?\n",
    "    2. Test to see if the computer can recognize if there is a beer in the picture?\n",
    "    3. Have the computer make a caption of a picture of your choosing?  \n",
    "    \"\"\")\n",
    "    \n",
    "    \n",
    "def get_HQ(beer):\n",
    "    beer_url = beer.replace(\" \", \"+\")\n",
    "    url = (\"https://www.beeradvocate.com/search/?q=%s&qt=beer\" % beer_url)\n",
    "    response = requests.get(url)\n",
    "    data = response.text\n",
    "    soup = BeautifulSoup(data, \"lxml\")\n",
    "    location_raw = soup.find(\"div\", attrs = {'id' : \"ba-content\"}).findAll(\"span\")[2]\n",
    "    location_name = location_raw.text\n",
    "    loc = location_name.replace(\"| \", \"\")\n",
    "    return loc\n",
    "\n",
    "def Vision_API(jpeg):\n",
    "    ## Insert Subscription key\n",
    "    subscription_key = \"d456f87f10544191aae54b20c129473a\"\n",
    "    assert subscription_key\n",
    "    \n",
    "\n",
    "    #Gets all the valid information to run the API\n",
    "    microsoft_api = 'https://eastus.api.cognitive.microsoft.com/vision/v1.0/analyze?visualFeatures=Description&language=en'\n",
    "    #jpeg = input('put in your url --> MUST BE A JPEG: \\n')\n",
    "    headers  = {'Ocp-Apim-Subscription-Key': subscription_key }\n",
    "    paramaters   = {'visualFeatures': 'Categories,Description,Color'}\n",
    "    data     = {'url': jpeg}\n",
    "\n",
    "    #Calls the API and gets the raw data\n",
    "    response = requests.post(microsoft_api, headers=headers, params=paramaters, json=data)\n",
    "    response.raise_for_status()\n",
    "    Vision_Data = response.json()\n",
    "    return Vision_Data\n",
    "\n",
    "def get_conf(Vision_Data):\n",
    "    conf = Vision_API(jpeg)['description']['captions'][0]['confidence']\n",
    "    perc = conf * 100\n",
    "    confidence = str(\"%.2f\") % perc + \"%\"\n",
    "    return confidence\n",
    "\n",
    "\n",
    "def is_beer(Vision_Data): \n",
    "    Vision_Data= Vision_API(jpeg)\n",
    "    tags = Vision_API(jpeg)['description']['tags']\n",
    "    if \"beer\" in tags:\n",
    "        print(\"This is a picture of beer!\")\n",
    "    else: \n",
    "        print(\"This is not a beer but you should get one\")\n",
    "    \n",
    "def get_Caption(Vision_Data):\n",
    "    #gets the caption that the api made\n",
    "    Vision_Data= Vision_API(jpeg)\n",
    "    caption = Vision_Data[\"description\"][\"captions\"][0][\"text\"].capitalize()\n",
    "    image = Image.open(BytesIO(requests.get(jpeg).content))\n",
    "    matplot.imshow(image)\n",
    "    ##prints the picture\n",
    "    matplot.axis(\"off\")\n",
    "    caption_printed = matplot.title(caption, size=\"x-large\", y=-0.1)\n",
    "    \n",
    "    \n",
    "\n",
    "\n",
    "menu()\n",
    "ans = input(\">> \")\n",
    "if ans == \"1\":\n",
    "    beer= input(\"type in a beer \\n\")\n",
    "    print(\"%s headquarters are in %s\" % (beer.title(), get_HQ(beer)))\n",
    "elif ans == \"2\":\n",
    "    jpeg = input('put in your url --> MUST BE A JPEG: \\n')\n",
    "    is_beer(Vision_API)\n",
    "    confidence = get_conf(Vision_API)\n",
    "    print (\"I am %s sure of this answer\" % confidence)\n",
    "elif ans == \"3\":\n",
    "    jpeg = input('put in your url --> MUST BE A JPEG: \\n')\n",
    "    get_Caption(Vision_API)\n",
    "    confidence = get_conf(Vision_API)\n",
    "    print (\"I am %s sure of this answer\" % confidence)\n"
   ]
  },
  {
   "cell_type": "code",
   "execution_count": 4,
   "metadata": {},
   "outputs": [
    {
     "name": "stdout",
     "output_type": "stream",
     "text": [
      "Collecting bs4\n",
      "  Downloading https://files.pythonhosted.org/packages/10/ed/7e8b97591f6f456174139ec089c769f89a94a1a4025fe967691de971f314/bs4-0.0.1.tar.gz\n",
      "Collecting beautifulsoup4 (from bs4)\n",
      "  Downloading https://files.pythonhosted.org/packages/9e/d4/10f46e5cfac773e22707237bfcd51bbffeaf0a576b0a847ec7ab15bd7ace/beautifulsoup4-4.6.0-py3-none-any.whl (86kB)\n",
      "\u001b[K    100% |████████████████████████████████| 92kB 1.4MB/s ta 0:00:01\n",
      "\u001b[?25hBuilding wheels for collected packages: bs4\n",
      "  Running setup.py bdist_wheel for bs4 ... \u001b[?25ldone\n",
      "\u001b[?25h  Stored in directory: /Users/andrewrobert/Library/Caches/pip/wheels/a0/b0/b2/4f80b9456b87abedbc0bf2d52235414c3467d8889be38dd472\n",
      "Successfully built bs4\n",
      "Installing collected packages: beautifulsoup4, bs4\n",
      "Successfully installed beautifulsoup4-4.6.0 bs4-0.0.1\n",
      "\u001b[33mYou are using pip version 9.0.3, however version 10.0.1 is available.\n",
      "You should consider upgrading via the 'pip install --upgrade pip' command.\u001b[0m\n"
     ]
    }
   ],
   "source": [
    "!pip install bs4"
   ]
  },
  {
   "cell_type": "code",
   "execution_count": 3,
   "metadata": {},
   "outputs": [
    {
     "ename": "ModuleNotFoundError",
     "evalue": "No module named 'bs4'",
     "output_type": "error",
     "traceback": [
      "\u001b[0;31m---------------------------------------------------------------------------\u001b[0m",
      "\u001b[0;31mModuleNotFoundError\u001b[0m                       Traceback (most recent call last)",
      "\u001b[0;32m<ipython-input-3-74109efea52a>\u001b[0m in \u001b[0;36m<module>\u001b[0;34m()\u001b[0m\n\u001b[1;32m      2\u001b[0m \u001b[0mget_ipython\u001b[0m\u001b[0;34m(\u001b[0m\u001b[0;34m)\u001b[0m\u001b[0;34m.\u001b[0m\u001b[0mrun_line_magic\u001b[0m\u001b[0;34m(\u001b[0m\u001b[0;34m'matplotlib'\u001b[0m\u001b[0;34m,\u001b[0m \u001b[0;34m'inline'\u001b[0m\u001b[0;34m)\u001b[0m\u001b[0;34m\u001b[0m\u001b[0m\n\u001b[1;32m      3\u001b[0m \u001b[0;32mfrom\u001b[0m \u001b[0mPIL\u001b[0m \u001b[0;32mimport\u001b[0m \u001b[0mImage\u001b[0m\u001b[0;34m\u001b[0m\u001b[0m\n\u001b[0;32m----> 4\u001b[0;31m \u001b[0;32mfrom\u001b[0m \u001b[0mbs4\u001b[0m \u001b[0;32mimport\u001b[0m \u001b[0mBeautifulSoup\u001b[0m\u001b[0;34m\u001b[0m\u001b[0m\n\u001b[0m\u001b[1;32m      5\u001b[0m \u001b[0;32mfrom\u001b[0m \u001b[0mio\u001b[0m \u001b[0;32mimport\u001b[0m \u001b[0mBytesIO\u001b[0m\u001b[0;34m\u001b[0m\u001b[0m\n\u001b[1;32m      6\u001b[0m \u001b[0;32mimport\u001b[0m \u001b[0mmatplotlib\u001b[0m\u001b[0;34m.\u001b[0m\u001b[0mpyplot\u001b[0m \u001b[0;32mas\u001b[0m \u001b[0mmatplot\u001b[0m\u001b[0;34m\u001b[0m\u001b[0m\n",
      "\u001b[0;31mModuleNotFoundError\u001b[0m: No module named 'bs4'"
     ]
    }
   ],
   "source": []
  },
  {
   "cell_type": "code",
   "execution_count": 10,
   "metadata": {},
   "outputs": [
    {
     "ename": "NameError",
     "evalue": "name 'soup' is not defined",
     "output_type": "error",
     "traceback": [
      "\u001b[0;31m---------------------------------------------------------------------------\u001b[0m",
      "\u001b[0;31mNameError\u001b[0m                                 Traceback (most recent call last)",
      "\u001b[0;32m<ipython-input-10-468935a8f34d>\u001b[0m in \u001b[0;36m<module>\u001b[0;34m()\u001b[0m\n\u001b[0;32m----> 1\u001b[0;31m \u001b[0msoup\u001b[0m\u001b[0;34m\u001b[0m\u001b[0m\n\u001b[0m",
      "\u001b[0;31mNameError\u001b[0m: name 'soup' is not defined"
     ]
    }
   ],
   "source": []
  },
  {
   "cell_type": "code",
   "execution_count": null,
   "metadata": {},
   "outputs": [],
   "source": []
  }
 ],
 "metadata": {
  "kernelspec": {
   "display_name": "Python 3",
   "language": "python",
   "name": "python3"
  },
  "language_info": {
   "codemirror_mode": {
    "name": "ipython",
    "version": 3
   },
   "file_extension": ".py",
   "mimetype": "text/x-python",
   "name": "python",
   "nbconvert_exporter": "python",
   "pygments_lexer": "ipython3",
   "version": "3.6.3"
  }
 },
 "nbformat": 4,
 "nbformat_minor": 2
}
